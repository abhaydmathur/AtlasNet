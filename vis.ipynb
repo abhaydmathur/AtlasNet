{
 "cells": [
  {
   "cell_type": "code",
   "execution_count": 1,
   "metadata": {},
   "outputs": [],
   "source": [
    "import glob\n",
    "import pyvista as pv"
   ]
  },
  {
   "cell_type": "code",
   "execution_count": 2,
   "metadata": {},
   "outputs": [],
   "source": [
    "images = glob.glob('inputs_25patches/*.png')[::-1]\n",
    "\n",
    "reconstructions = [x.replace('.png', 'AtlasnetReconstruction.ply') for x in images]"
   ]
  },
  {
   "cell_type": "code",
   "execution_count": 3,
   "metadata": {},
   "outputs": [
    {
     "name": "stdout",
     "output_type": "stream",
     "text": [
      "['inputs_25patches/plane_input_demoAtlasnetReconstruction.ply', 'inputs_25patches/lampAtlasnetReconstruction.ply', 'inputs_25patches/chair0AtlasnetReconstruction.ply', 'inputs_25patches/chairAtlasnetReconstruction.ply', 'inputs_25patches/car_sans_bgAtlasnetReconstruction.ply', 'inputs_25patches/car_irlAtlasnetReconstruction.ply']\n"
     ]
    }
   ],
   "source": [
    "print(reconstructions)"
   ]
  },
  {
   "cell_type": "code",
   "execution_count": 4,
   "metadata": {},
   "outputs": [
    {
     "data": {
      "application/vnd.jupyter.widget-view+json": {
       "model_id": "f32fe4634801482983e1ca70bcb671a0",
       "version_major": 2,
       "version_minor": 0
      },
      "text/plain": [
       "Widget(value='<iframe src=\"http://localhost:45885/index.html?ui=P_0x7c3062c757f0_0&reconnect=auto\" class=\"pyvi…"
      ]
     },
     "metadata": {},
     "output_type": "display_data"
    },
    {
     "data": {
      "application/vnd.jupyter.widget-view+json": {
       "model_id": "06a94841cadb4444912fd82b59d22815",
       "version_major": 2,
       "version_minor": 0
      },
      "text/plain": [
       "Widget(value='<iframe src=\"http://localhost:45885/index.html?ui=P_0x7c305fcd2ff0_1&reconnect=auto\" class=\"pyvi…"
      ]
     },
     "metadata": {},
     "output_type": "display_data"
    },
    {
     "data": {
      "application/vnd.jupyter.widget-view+json": {
       "model_id": "3036b58eac7840ababa711f9c7a542da",
       "version_major": 2,
       "version_minor": 0
      },
      "text/plain": [
       "Widget(value='<iframe src=\"http://localhost:45885/index.html?ui=P_0x7c305edb6c00_2&reconnect=auto\" class=\"pyvi…"
      ]
     },
     "metadata": {},
     "output_type": "display_data"
    },
    {
     "data": {
      "application/vnd.jupyter.widget-view+json": {
       "model_id": "76f727399bf74e8cb7168970536f7afd",
       "version_major": 2,
       "version_minor": 0
      },
      "text/plain": [
       "Widget(value='<iframe src=\"http://localhost:45885/index.html?ui=P_0x7c30a452e150_3&reconnect=auto\" class=\"pyvi…"
      ]
     },
     "metadata": {},
     "output_type": "display_data"
    },
    {
     "data": {
      "application/vnd.jupyter.widget-view+json": {
       "model_id": "50d17b9ea30c40d4bd035bfb0d586a17",
       "version_major": 2,
       "version_minor": 0
      },
      "text/plain": [
       "Widget(value='<iframe src=\"http://localhost:45885/index.html?ui=P_0x7c305f9a05f0_4&reconnect=auto\" class=\"pyvi…"
      ]
     },
     "metadata": {},
     "output_type": "display_data"
    },
    {
     "data": {
      "application/vnd.jupyter.widget-view+json": {
       "model_id": "31522d9f69a744daa59386f200783f9c",
       "version_major": 2,
       "version_minor": 0
      },
      "text/plain": [
       "Widget(value='<iframe src=\"http://localhost:45885/index.html?ui=P_0x7c30a510f620_5&reconnect=auto\" class=\"pyvi…"
      ]
     },
     "metadata": {},
     "output_type": "display_data"
    }
   ],
   "source": [
    "for i in range(len(images)):\n",
    "    img = pv.read(images[i])\n",
    "    # chart = img.plot(rgb=True, cpos='xy')\n",
    "    mesh = pv.read(reconstructions[i])\n",
    "    plotter = pv.Plotter(shape=(1, 2))\n",
    "    plotter.subplot(0, 0)   \n",
    "    plotter.add_background_image(images[i], as_global=False)\n",
    "    # plotter.add_chart(img)  \n",
    "    plotter.subplot(0, 1)\n",
    "    plotter.add_mesh(mesh)\n",
    "    plotter.show()\n",
    "    # pv.show()"
   ]
  },
  {
   "cell_type": "code",
   "execution_count": null,
   "metadata": {},
   "outputs": [],
   "source": []
  }
 ],
 "metadata": {
  "kernelspec": {
   "display_name": "atlas",
   "language": "python",
   "name": "python3"
  },
  "language_info": {
   "codemirror_mode": {
    "name": "ipython",
    "version": 3
   },
   "file_extension": ".py",
   "mimetype": "text/x-python",
   "name": "python",
   "nbconvert_exporter": "python",
   "pygments_lexer": "ipython3",
   "version": "3.12.3"
  }
 },
 "nbformat": 4,
 "nbformat_minor": 2
}
