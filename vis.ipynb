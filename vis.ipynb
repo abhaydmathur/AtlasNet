{
 "cells": [
  {
   "cell_type": "code",
   "execution_count": 1,
   "metadata": {},
   "outputs": [],
   "source": [
    "import glob\n",
    "import pyvista as pv"
   ]
  },
  {
   "cell_type": "code",
   "execution_count": 2,
   "metadata": {},
   "outputs": [],
   "source": [
    "images = glob.glob('inputs/*.png')\n",
    "\n",
    "reconstructions = [x.replace('.png', 'AtlasNetReconstruction.ply') for x in images]"
   ]
  },
  {
   "cell_type": "code",
   "execution_count": 3,
   "metadata": {},
   "outputs": [
    {
     "name": "stdout",
     "output_type": "stream",
     "text": [
      "['inputs/car.png', 'inputs/car_irl.png', 'inputs/chair.png', 'inputs/plane_input_demo.png'] ['inputs/carAtlasNetReconstruction.ply', 'inputs/car_irlAtlasNetReconstruction.ply', 'inputs/chairAtlasNetReconstruction.ply', 'inputs/plane_input_demoAtlasNetReconstruction.ply']\n"
     ]
    }
   ],
   "source": [
    "print(images, reconstructions)"
   ]
  },
  {
   "cell_type": "code",
   "execution_count": 5,
   "metadata": {},
   "outputs": [
    {
     "data": {
      "application/vnd.jupyter.widget-view+json": {
       "model_id": "0af8a5bfcae142ecb15bc6556945d214",
       "version_major": 2,
       "version_minor": 0
      },
      "text/plain": [
       "Widget(value='<iframe src=\"http://localhost:35195/index.html?ui=P_0x7da8fa5738c0_1&reconnect=auto\" class=\"pyvi…"
      ]
     },
     "metadata": {},
     "output_type": "display_data"
    }
   ],
   "source": [
    "mesh = pv.read(\"inputs/plane_input_demoAtlasnetReconstruction.ply\")\n",
    "cpos = mesh.plot()"
   ]
  },
  {
   "cell_type": "code",
   "execution_count": null,
   "metadata": {},
   "outputs": [],
   "source": []
  }
 ],
 "metadata": {
  "kernelspec": {
   "display_name": "atlas",
   "language": "python",
   "name": "python3"
  },
  "language_info": {
   "codemirror_mode": {
    "name": "ipython",
    "version": 3
   },
   "file_extension": ".py",
   "mimetype": "text/x-python",
   "name": "python",
   "nbconvert_exporter": "python",
   "pygments_lexer": "ipython3",
   "version": "3.12.3"
  }
 },
 "nbformat": 4,
 "nbformat_minor": 2
}
